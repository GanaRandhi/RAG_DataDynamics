{
 "cells": [
  {
   "cell_type": "code",
   "execution_count": 2,
   "id": "74d4cf69",
   "metadata": {},
   "outputs": [
    {
     "name": "stdout",
     "output_type": "stream",
     "text": [
      "Requirement already satisfied: streamlit in c:\\genai\\rag_datadynamics\\streamlitrag_venv\\lib\\site-packages (1.47.0)\n",
      "Requirement already satisfied: langchain in c:\\genai\\rag_datadynamics\\streamlitrag_venv\\lib\\site-packages (0.3.26)\n",
      "Collecting textloader\n",
      "  Downloading TextLoader-0.0.9-py3-none-any.whl.metadata (504 bytes)\n",
      "Requirement already satisfied: altair<6,>=4.0 in c:\\genai\\rag_datadynamics\\streamlitrag_venv\\lib\\site-packages (from streamlit) (5.5.0)\n",
      "Requirement already satisfied: blinker<2,>=1.5.0 in c:\\genai\\rag_datadynamics\\streamlitrag_venv\\lib\\site-packages (from streamlit) (1.9.0)\n",
      "Requirement already satisfied: cachetools<7,>=4.0 in c:\\genai\\rag_datadynamics\\streamlitrag_venv\\lib\\site-packages (from streamlit) (6.1.0)\n",
      "Requirement already satisfied: click<9,>=7.0 in c:\\genai\\rag_datadynamics\\streamlitrag_venv\\lib\\site-packages (from streamlit) (8.2.1)\n",
      "Requirement already satisfied: numpy<3,>=1.23 in c:\\genai\\rag_datadynamics\\streamlitrag_venv\\lib\\site-packages (from streamlit) (2.3.1)\n",
      "Requirement already satisfied: packaging<26,>=20 in c:\\genai\\rag_datadynamics\\streamlitrag_venv\\lib\\site-packages (from streamlit) (25.0)\n",
      "Requirement already satisfied: pandas<3,>=1.4.0 in c:\\genai\\rag_datadynamics\\streamlitrag_venv\\lib\\site-packages (from streamlit) (2.3.1)\n",
      "Requirement already satisfied: pillow<12,>=7.1.0 in c:\\genai\\rag_datadynamics\\streamlitrag_venv\\lib\\site-packages (from streamlit) (11.3.0)\n",
      "Requirement already satisfied: protobuf<7,>=3.20 in c:\\genai\\rag_datadynamics\\streamlitrag_venv\\lib\\site-packages (from streamlit) (6.31.1)\n",
      "Requirement already satisfied: pyarrow>=7.0 in c:\\genai\\rag_datadynamics\\streamlitrag_venv\\lib\\site-packages (from streamlit) (21.0.0)\n",
      "Requirement already satisfied: requests<3,>=2.27 in c:\\genai\\rag_datadynamics\\streamlitrag_venv\\lib\\site-packages (from streamlit) (2.32.4)\n",
      "Requirement already satisfied: tenacity<10,>=8.1.0 in c:\\genai\\rag_datadynamics\\streamlitrag_venv\\lib\\site-packages (from streamlit) (9.1.2)\n",
      "Requirement already satisfied: toml<2,>=0.10.1 in c:\\genai\\rag_datadynamics\\streamlitrag_venv\\lib\\site-packages (from streamlit) (0.10.2)\n",
      "Requirement already satisfied: typing-extensions<5,>=4.4.0 in c:\\genai\\rag_datadynamics\\streamlitrag_venv\\lib\\site-packages (from streamlit) (4.14.1)\n",
      "Requirement already satisfied: watchdog<7,>=2.1.5 in c:\\genai\\rag_datadynamics\\streamlitrag_venv\\lib\\site-packages (from streamlit) (6.0.0)\n",
      "Requirement already satisfied: gitpython!=3.1.19,<4,>=3.0.7 in c:\\genai\\rag_datadynamics\\streamlitrag_venv\\lib\\site-packages (from streamlit) (3.1.44)\n",
      "Requirement already satisfied: pydeck<1,>=0.8.0b4 in c:\\genai\\rag_datadynamics\\streamlitrag_venv\\lib\\site-packages (from streamlit) (0.9.1)\n",
      "Requirement already satisfied: tornado!=6.5.0,<7,>=6.0.3 in c:\\genai\\rag_datadynamics\\streamlitrag_venv\\lib\\site-packages (from streamlit) (6.5.1)\n",
      "Requirement already satisfied: langchain-core<1.0.0,>=0.3.66 in c:\\genai\\rag_datadynamics\\streamlitrag_venv\\lib\\site-packages (from langchain) (0.3.71)\n",
      "Requirement already satisfied: langchain-text-splitters<1.0.0,>=0.3.8 in c:\\genai\\rag_datadynamics\\streamlitrag_venv\\lib\\site-packages (from langchain) (0.3.8)\n",
      "Requirement already satisfied: langsmith>=0.1.17 in c:\\genai\\rag_datadynamics\\streamlitrag_venv\\lib\\site-packages (from langchain) (0.4.8)\n",
      "Requirement already satisfied: pydantic<3.0.0,>=2.7.4 in c:\\genai\\rag_datadynamics\\streamlitrag_venv\\lib\\site-packages (from langchain) (2.11.7)\n",
      "Requirement already satisfied: SQLAlchemy<3,>=1.4 in c:\\genai\\rag_datadynamics\\streamlitrag_venv\\lib\\site-packages (from langchain) (2.0.41)\n",
      "Requirement already satisfied: PyYAML>=5.3 in c:\\genai\\rag_datadynamics\\streamlitrag_venv\\lib\\site-packages (from langchain) (6.0.2)\n",
      "Collecting chardet (from textloader)\n",
      "  Downloading chardet-5.2.0-py3-none-any.whl.metadata (3.4 kB)\n",
      "Requirement already satisfied: jinja2 in c:\\genai\\rag_datadynamics\\streamlitrag_venv\\lib\\site-packages (from altair<6,>=4.0->streamlit) (3.1.6)\n",
      "Requirement already satisfied: jsonschema>=3.0 in c:\\genai\\rag_datadynamics\\streamlitrag_venv\\lib\\site-packages (from altair<6,>=4.0->streamlit) (4.25.0)\n",
      "Requirement already satisfied: narwhals>=1.14.2 in c:\\genai\\rag_datadynamics\\streamlitrag_venv\\lib\\site-packages (from altair<6,>=4.0->streamlit) (1.48.0)\n",
      "Requirement already satisfied: colorama in c:\\genai\\rag_datadynamics\\streamlitrag_venv\\lib\\site-packages (from click<9,>=7.0->streamlit) (0.4.6)\n",
      "Requirement already satisfied: gitdb<5,>=4.0.1 in c:\\genai\\rag_datadynamics\\streamlitrag_venv\\lib\\site-packages (from gitpython!=3.1.19,<4,>=3.0.7->streamlit) (4.0.12)\n",
      "Requirement already satisfied: jsonpatch<2.0,>=1.33 in c:\\genai\\rag_datadynamics\\streamlitrag_venv\\lib\\site-packages (from langchain-core<1.0.0,>=0.3.66->langchain) (1.33)\n",
      "Requirement already satisfied: httpx<1,>=0.23.0 in c:\\genai\\rag_datadynamics\\streamlitrag_venv\\lib\\site-packages (from langsmith>=0.1.17->langchain) (0.28.1)\n",
      "Requirement already satisfied: orjson<4.0.0,>=3.9.14 in c:\\genai\\rag_datadynamics\\streamlitrag_venv\\lib\\site-packages (from langsmith>=0.1.17->langchain) (3.11.0)\n",
      "Requirement already satisfied: requests-toolbelt<2.0.0,>=1.0.0 in c:\\genai\\rag_datadynamics\\streamlitrag_venv\\lib\\site-packages (from langsmith>=0.1.17->langchain) (1.0.0)\n",
      "Requirement already satisfied: zstandard<0.24.0,>=0.23.0 in c:\\genai\\rag_datadynamics\\streamlitrag_venv\\lib\\site-packages (from langsmith>=0.1.17->langchain) (0.23.0)\n",
      "Requirement already satisfied: python-dateutil>=2.8.2 in c:\\genai\\rag_datadynamics\\streamlitrag_venv\\lib\\site-packages (from pandas<3,>=1.4.0->streamlit) (2.9.0.post0)\n",
      "Requirement already satisfied: pytz>=2020.1 in c:\\genai\\rag_datadynamics\\streamlitrag_venv\\lib\\site-packages (from pandas<3,>=1.4.0->streamlit) (2025.2)\n",
      "Requirement already satisfied: tzdata>=2022.7 in c:\\genai\\rag_datadynamics\\streamlitrag_venv\\lib\\site-packages (from pandas<3,>=1.4.0->streamlit) (2025.2)\n",
      "Requirement already satisfied: annotated-types>=0.6.0 in c:\\genai\\rag_datadynamics\\streamlitrag_venv\\lib\\site-packages (from pydantic<3.0.0,>=2.7.4->langchain) (0.7.0)\n",
      "Requirement already satisfied: pydantic-core==2.33.2 in c:\\genai\\rag_datadynamics\\streamlitrag_venv\\lib\\site-packages (from pydantic<3.0.0,>=2.7.4->langchain) (2.33.2)\n",
      "Requirement already satisfied: typing-inspection>=0.4.0 in c:\\genai\\rag_datadynamics\\streamlitrag_venv\\lib\\site-packages (from pydantic<3.0.0,>=2.7.4->langchain) (0.4.1)\n",
      "Requirement already satisfied: charset_normalizer<4,>=2 in c:\\genai\\rag_datadynamics\\streamlitrag_venv\\lib\\site-packages (from requests<3,>=2.27->streamlit) (3.4.2)\n",
      "Requirement already satisfied: idna<4,>=2.5 in c:\\genai\\rag_datadynamics\\streamlitrag_venv\\lib\\site-packages (from requests<3,>=2.27->streamlit) (3.10)\n",
      "Requirement already satisfied: urllib3<3,>=1.21.1 in c:\\genai\\rag_datadynamics\\streamlitrag_venv\\lib\\site-packages (from requests<3,>=2.27->streamlit) (2.5.0)\n",
      "Requirement already satisfied: certifi>=2017.4.17 in c:\\genai\\rag_datadynamics\\streamlitrag_venv\\lib\\site-packages (from requests<3,>=2.27->streamlit) (2025.7.14)\n",
      "Requirement already satisfied: greenlet>=1 in c:\\genai\\rag_datadynamics\\streamlitrag_venv\\lib\\site-packages (from SQLAlchemy<3,>=1.4->langchain) (3.2.3)\n",
      "Requirement already satisfied: smmap<6,>=3.0.1 in c:\\genai\\rag_datadynamics\\streamlitrag_venv\\lib\\site-packages (from gitdb<5,>=4.0.1->gitpython!=3.1.19,<4,>=3.0.7->streamlit) (5.0.2)\n",
      "Requirement already satisfied: anyio in c:\\genai\\rag_datadynamics\\streamlitrag_venv\\lib\\site-packages (from httpx<1,>=0.23.0->langsmith>=0.1.17->langchain) (4.9.0)\n",
      "Requirement already satisfied: httpcore==1.* in c:\\genai\\rag_datadynamics\\streamlitrag_venv\\lib\\site-packages (from httpx<1,>=0.23.0->langsmith>=0.1.17->langchain) (1.0.9)\n",
      "Requirement already satisfied: h11>=0.16 in c:\\genai\\rag_datadynamics\\streamlitrag_venv\\lib\\site-packages (from httpcore==1.*->httpx<1,>=0.23.0->langsmith>=0.1.17->langchain) (0.16.0)\n",
      "Requirement already satisfied: MarkupSafe>=2.0 in c:\\genai\\rag_datadynamics\\streamlitrag_venv\\lib\\site-packages (from jinja2->altair<6,>=4.0->streamlit) (3.0.2)\n",
      "Requirement already satisfied: jsonpointer>=1.9 in c:\\genai\\rag_datadynamics\\streamlitrag_venv\\lib\\site-packages (from jsonpatch<2.0,>=1.33->langchain-core<1.0.0,>=0.3.66->langchain) (3.0.0)\n",
      "Requirement already satisfied: attrs>=22.2.0 in c:\\genai\\rag_datadynamics\\streamlitrag_venv\\lib\\site-packages (from jsonschema>=3.0->altair<6,>=4.0->streamlit) (25.3.0)\n",
      "Requirement already satisfied: jsonschema-specifications>=2023.03.6 in c:\\genai\\rag_datadynamics\\streamlitrag_venv\\lib\\site-packages (from jsonschema>=3.0->altair<6,>=4.0->streamlit) (2025.4.1)\n",
      "Requirement already satisfied: referencing>=0.28.4 in c:\\genai\\rag_datadynamics\\streamlitrag_venv\\lib\\site-packages (from jsonschema>=3.0->altair<6,>=4.0->streamlit) (0.36.2)\n",
      "Requirement already satisfied: rpds-py>=0.7.1 in c:\\genai\\rag_datadynamics\\streamlitrag_venv\\lib\\site-packages (from jsonschema>=3.0->altair<6,>=4.0->streamlit) (0.26.0)\n",
      "Requirement already satisfied: six>=1.5 in c:\\genai\\rag_datadynamics\\streamlitrag_venv\\lib\\site-packages (from python-dateutil>=2.8.2->pandas<3,>=1.4.0->streamlit) (1.17.0)\n",
      "Requirement already satisfied: sniffio>=1.1 in c:\\genai\\rag_datadynamics\\streamlitrag_venv\\lib\\site-packages (from anyio->httpx<1,>=0.23.0->langsmith>=0.1.17->langchain) (1.3.1)\n",
      "Downloading TextLoader-0.0.9-py3-none-any.whl (12 kB)\n",
      "Downloading chardet-5.2.0-py3-none-any.whl (199 kB)\n",
      "   ---------------------------------------- 0.0/199.4 kB ? eta -:--:--\n",
      "   -- ------------------------------------- 10.2/199.4 kB ? eta -:--:--\n",
      "   ------------ --------------------------- 61.4/199.4 kB 1.1 MB/s eta 0:00:01\n",
      "   ---------------------------------------- 199.4/199.4 kB 2.0 MB/s eta 0:00:00\n",
      "Installing collected packages: chardet, textloader\n",
      "Successfully installed chardet-5.2.0 textloader-0.0.9\n"
     ]
    },
    {
     "name": "stderr",
     "output_type": "stream",
     "text": [
      "\n",
      "[notice] A new release of pip is available: 24.0 -> 25.1.1\n",
      "[notice] To update, run: python.exe -m pip install --upgrade pip\n"
     ]
    }
   ],
   "source": [
    "!pip install streamlit langchain textloader"
   ]
  },
  {
   "cell_type": "code",
   "execution_count": null,
   "id": "767eb802",
   "metadata": {},
   "outputs": [],
   "source": [
    "import streamlit as st\n",
    "from langchain.text_splitter import RecursiveCharacterTextSplitter\n",
    "\n",
    "st.title(\"Text Splitter with RecursiveCharacterTextSplitter\")\n"
   ]
  }
 ],
 "metadata": {
  "kernelspec": {
   "display_name": "streamlitRAG_venv",
   "language": "python",
   "name": "python3"
  },
  "language_info": {
   "codemirror_mode": {
    "name": "ipython",
    "version": 3
   },
   "file_extension": ".py",
   "mimetype": "text/x-python",
   "name": "python",
   "nbconvert_exporter": "python",
   "pygments_lexer": "ipython3",
   "version": "3.11.9"
  }
 },
 "nbformat": 4,
 "nbformat_minor": 5
}
